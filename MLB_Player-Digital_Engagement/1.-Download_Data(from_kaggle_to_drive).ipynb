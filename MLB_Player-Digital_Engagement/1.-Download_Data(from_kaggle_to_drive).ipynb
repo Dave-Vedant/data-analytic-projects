{
  "nbformat": 4,
  "nbformat_minor": 0,
  "metadata": {
    "colab": {
      "name": "Download_Data(from kaggle to drive).ipynb",
      "provenance": [],
      "collapsed_sections": []
    },
    "kernelspec": {
      "name": "python3",
      "display_name": "Python 3"
    }
  },
  "cells": [
    {
      "cell_type": "code",
      "metadata": {
        "id": "c2oukls8WVJD"
      },
      "source": [
        "# installed upgraded kaggle and check current file system\n",
        "%%capture\n",
        "\n",
        "!pip install --upgrade kaggle\n",
        "!ls"
      ],
      "execution_count": 16,
      "outputs": []
    },
    {
      "cell_type": "code",
      "metadata": {
        "colab": {
          "base_uri": "https://localhost:8080/"
        },
        "id": "akTyRqCLWU7n",
        "outputId": "8b86f5c6-96a0-4779-b2a4-1978665a96b0"
      },
      "source": [
        "# find dirctory for downloading dataset\n",
        "%cd /content/drive/MyDrive/Data"
      ],
      "execution_count": 17,
      "outputs": [
        {
          "output_type": "stream",
          "text": [
            "/content/drive/MyDrive/Data\n"
          ],
          "name": "stdout"
        }
      ]
    },
    {
      "cell_type": "code",
      "metadata": {
        "colab": {
          "base_uri": "https://localhost:8080/"
        },
        "id": "4wYP9cBwWpGz",
        "outputId": "5f241a8b-5960-49dd-b449-3cf73bbca9a8"
      },
      "source": [
        "# recheck directory\n",
        "!pwd"
      ],
      "execution_count": 18,
      "outputs": [
        {
          "output_type": "stream",
          "text": [
            "/content/drive/MyDrive/Data\n"
          ],
          "name": "stdout"
        }
      ]
    },
    {
      "cell_type": "code",
      "metadata": {
        "id": "k9IzthUppWAf",
        "colab": {
          "base_uri": "https://localhost:8080/"
        },
        "outputId": "a1cf1aca-a272-480d-fa09-ae0a19e9b47e"
      },
      "source": [
        "!mkdir mlb_player-def\n",
        "!ls"
      ],
      "execution_count": 19,
      "outputs": [
        {
          "output_type": "stream",
          "text": [
            "Cassava_Leaf_Disease  sample_submission.csv\t  train\n",
            "covid-19\t      shopee\t\t\t  train_image_level.csv\n",
            "HubMap\t\t      siim-covid19-detection.zip  train_study_level.csv\n",
            "mlb_player-def\t      test\n"
          ],
          "name": "stdout"
        }
      ]
    },
    {
      "cell_type": "code",
      "metadata": {
        "colab": {
          "base_uri": "https://localhost:8080/"
        },
        "id": "dSaVQ7Dspa1P",
        "outputId": "35121e3c-84cc-44db-b9da-6e4ee561d519"
      },
      "source": [
        "%cd mlb_player-def/"
      ],
      "execution_count": 20,
      "outputs": [
        {
          "output_type": "stream",
          "text": [
            "/content/drive/MyDrive/Data/mlb_player-def\n"
          ],
          "name": "stdout"
        }
      ]
    },
    {
      "cell_type": "code",
      "metadata": {
        "id": "KGTL3YrT0rYH"
      },
      "source": [
        "!ls"
      ],
      "execution_count": 21,
      "outputs": []
    },
    {
      "cell_type": "markdown",
      "metadata": {
        "id": "s4wfWC5kpahY"
      },
      "source": [
        ""
      ]
    },
    {
      "cell_type": "code",
      "metadata": {
        "id": "G7O1heDlVbho"
      },
      "source": [
        "#Configuration environment\n",
        "import os\n",
        "\n",
        "# Kaggle API (generate new key from account setttings, first expired old one)\n",
        "os.environ['KAGGLE_USERNAME'] = \"<<Your UserName>>\" # username from the json file\n",
        "os.environ['KAGGLE_KEY'] = \"<<Your Kaggle Key>>\" # key from the json file (generate new key everytime from account setting)"
      ],
      "execution_count": 22,
      "outputs": []
    },
    {
      "cell_type": "code",
      "metadata": {
        "colab": {
          "base_uri": "https://localhost:8080/"
        },
        "id": "AbXF9M13WRe0",
        "outputId": "a3390952-ae2f-49a3-a3df-8f84efbd47ae"
      },
      "source": [
        "# Download data (first check the full path to avoid mess up) - it takes time. \n",
        "!kaggle competitions download -c mlb-player-digital-engagement-forecasting"
      ],
      "execution_count": 23,
      "outputs": [
        {
          "output_type": "stream",
          "text": [
            "Warning: Looks like you're using an outdated API Version, please consider updating (server 1.5.12 / client 1.5.4)\n",
            "Downloading competition.cpython-37m-x86_64-linux-gnu.so to /content/drive/MyDrive/Data/mlb_player-def\n",
            "  0% 0.00/443k [00:00<?, ?B/s]\n",
            "100% 443k/443k [00:00<00:00, 27.4MB/s]\n",
            "Downloading __init__.py to /content/drive/My Drive/Data/mlb_player-def\n",
            "  0% 0.00/59.0 [00:00<?, ?B/s]\n",
            "100% 59.0/59.0 [00:00<00:00, 7.98kB/s]\n",
            "Downloading players.csv to /content/drive/My Drive/Data/mlb_player-def\n",
            "  0% 0.00/173k [00:00<?, ?B/s]\n",
            "100% 173k/173k [00:00<00:00, 23.9MB/s]\n",
            "Downloading example_test.csv.zip to /content/drive/My Drive/Data/mlb_player-def\n",
            "  0% 0.00/3.96M [00:00<?, ?B/s]\n",
            "100% 3.96M/3.96M [00:00<00:00, 131MB/s]\n",
            "Downloading awards.csv to /content/drive/My Drive/Data/mlb_player-def\n",
            "  0% 0.00/820k [00:00<?, ?B/s]\n",
            "100% 820k/820k [00:00<00:00, 53.7MB/s]\n",
            "Downloading teams.csv to /content/drive/My Drive/Data/mlb_player-def\n",
            "  0% 0.00/3.68k [00:00<?, ?B/s]\n",
            "100% 3.68k/3.68k [00:00<00:00, 632kB/s]\n",
            "Downloading example_sample_submission.csv to /content/drive/My Drive/Data/mlb_player-def\n",
            "  0% 0.00/191k [00:00<?, ?B/s]\n",
            "100% 191k/191k [00:00<00:00, 24.4MB/s]\n",
            "Downloading train.csv.zip to /content/drive/My Drive/Data/mlb_player-def\n",
            " 97% 458M/470M [00:03<00:00, 154MB/s]\n",
            "100% 470M/470M [00:03<00:00, 146MB/s]\n",
            "Downloading seasons.csv to /content/drive/My Drive/Data/mlb_player-def\n",
            "  0% 0.00/824 [00:00<?, ?B/s]\n",
            "100% 824/824 [00:00<00:00, 1.60kB/s]\n"
          ],
          "name": "stdout"
        }
      ]
    },
    {
      "cell_type": "code",
      "metadata": {
        "id": "rnBjWBc4WuNj"
      },
      "source": [
        "# check the current downloaded zip file\n",
        "!ls "
      ],
      "execution_count": 28,
      "outputs": []
    },
    {
      "cell_type": "code",
      "metadata": {
        "id": "Yrxv7iN-2L2K"
      },
      "source": [
        "# unzip files in the folder and remove the zip files\n",
        "import os, zipfile\n",
        "\n",
        "source = '/content/drive/My Drive/Data/mlb_player-def'\n",
        "destination = '/content/drive/My Drive/Data/mlb_player-def'\n",
        "extension = '.zip'\n",
        "\n",
        "os.chdir(source)\n",
        "\n",
        "for file in os.listdir(source):\n",
        "  if file.endswith(extension):\n",
        "    file_name = os.path.abspath(file)\n",
        "    zip_ref = zipfile.ZipFile(file_name)\n",
        "    zip_ref.extractall(source)\n",
        "    zip_ref.close()\n",
        "    os.remove(file_name)"
      ],
      "execution_count": 33,
      "outputs": []
    },
    {
      "cell_type": "code",
      "metadata": {
        "colab": {
          "base_uri": "https://localhost:8080/"
        },
        "id": "jpqrSqae6L9t",
        "outputId": "288d5de1-3b7e-46b6-aa8a-11dfe32d428d"
      },
      "source": [
        "!ls /content/drive/My Drive/Data/mlb_player-def"
      ],
      "execution_count": 34,
      "outputs": [
        {
          "output_type": "stream",
          "text": [
            "awards.csv\t\t\t\t     example_test.csv  seasons.csv\n",
            "competition.cpython-37m-x86_64-linux-gnu.so  __init__.py       teams.csv\n",
            "example_sample_submission.csv\t\t     players.csv       train.csv\n"
          ],
          "name": "stdout"
        }
      ]
    },
    {
      "cell_type": "code",
      "metadata": {
        "id": "YVvRiv_OASuz"
      },
      "source": [
        "# total size of data (to match with kaggle dataset)\n",
        "def get_directory_size(dir):\n",
        "  total = 0\n",
        "  try:\n",
        "    for entry in os.scandir(dir):\n",
        "      if entry.is_file():\n",
        "        total += entry.stat().st_size\n",
        "      elif entry.is_dir():\n",
        "        total += get_directory_size(entry.path)\n",
        "  except NotADirectoryError:\n",
        "    return os.path.getsize(dir)\n",
        "  except PermissionError:\n",
        "    return 0\n",
        "  return total\n",
        "\n",
        "def get_size_format(b, factor=1024, suffix=\"B\"):\n",
        "  for unit in [\"\", \"K\", \"M\", \"G\", \"T\", \"P\", \"E\",\"Z\"]:\n",
        "    if b < factor:\n",
        "      return f\"{b:.2f}{unit}{suffix}\"\n",
        "    b/= factor\n",
        "  return f\"{b:.2f}Y{suffix}\""
      ],
      "execution_count": 35,
      "outputs": []
    },
    {
      "cell_type": "code",
      "metadata": {
        "colab": {
          "base_uri": "https://localhost:8080/",
          "height": 35
        },
        "id": "sM9HSOywASru",
        "outputId": "3344965f-0f72-4fb4-bdd6-e9b261c7563a"
      },
      "source": [
        "get_size_format(get_directory_size('/content/drive/My Drive/Data/mlb_player-def/')) # check size with kaggle original dataset."
      ],
      "execution_count": 36,
      "outputs": [
        {
          "output_type": "execute_result",
          "data": {
            "application/vnd.google.colaboratory.intrinsic+json": {
              "type": "string"
            },
            "text/plain": [
              "'3.60GB'"
            ]
          },
          "metadata": {
            "tags": []
          },
          "execution_count": 36
        }
      ]
    },
    {
      "cell_type": "code",
      "metadata": {
        "colab": {
          "base_uri": "https://localhost:8080/"
        },
        "id": "qaXOogPIwz19",
        "outputId": "746ecdde-4297-4b06-8ab7-a904aca78196"
      },
      "source": [
        "# match data with real dataset\n",
        "!ls"
      ],
      "execution_count": 37,
      "outputs": [
        {
          "output_type": "stream",
          "text": [
            "awards.csv\t\t\t\t     example_test.csv  seasons.csv\n",
            "competition.cpython-37m-x86_64-linux-gnu.so  __init__.py       teams.csv\n",
            "example_sample_submission.csv\t\t     players.csv       train.csv\n"
          ],
          "name": "stdout"
        }
      ]
    },
    {
      "cell_type": "code",
      "metadata": {
        "id": "3s5wdthsywAR",
        "colab": {
          "base_uri": "https://localhost:8080/"
        },
        "outputId": "fc5a970f-bdc7-4046-b3ed-b8a6f47ec712"
      },
      "source": [
        "%ls"
      ],
      "execution_count": null,
      "outputs": [
        {
          "output_type": "stream",
          "text": [
            "sample_submission.csv  test.csv  \u001b[0m\u001b[01;34mtest_images\u001b[0m/  train.csv  \u001b[01;34mtrain_images\u001b[0m/\n"
          ],
          "name": "stdout"
        }
      ]
    },
    {
      "cell_type": "markdown",
      "metadata": {
        "id": "Nblb8pt9ydzK"
      },
      "source": [
        "# Done"
      ]
    },
    {
      "cell_type": "code",
      "metadata": {
        "id": "H_1PKHfWdkHg"
      },
      "source": [
        ""
      ],
      "execution_count": null,
      "outputs": []
    }
  ]
}
