{
  "nbformat": 4,
  "nbformat_minor": 0,
  "metadata": {
    "colab": {
      "name": "Github_Scraping.ipynb",
      "provenance": [],
      "collapsed_sections": [],
      "authorship_tag": "ABX9TyOi43CIw0ud1iI+3qVHa8RA",
      "include_colab_link": true
    },
    "kernelspec": {
      "name": "python3",
      "display_name": "Python 3"
    },
    "language_info": {
      "name": "python"
    }
  },
  "cells": [
    {
      "cell_type": "markdown",
      "metadata": {
        "id": "view-in-github",
        "colab_type": "text"
      },
      "source": [
        "<a href=\"https://colab.research.google.com/github/vedantdave77/Kaggle_Competitions/blob/master/Web_Scraping/Github-Web_Scraping.ipynb\" target=\"_parent\"><img src=\"https://colab.research.google.com/assets/colab-badge.svg\" alt=\"Open In Colab\"/></a>"
      ]
    },
    {
      "cell_type": "markdown",
      "metadata": {
        "id": "-8c6Mkjl0-OM"
      },
      "source": [
        "# **Scraping Top Repositiories for Topics on Github.**\n",
        "\n",
        "---\n",
        "**Project Flow :**\n",
        "1. Scrap the site : https://github.com/topics\n",
        "2. Get list of topics. For each topic, we will get topic title, page url and description.\n",
        "3. We will get first 30 repositories in the topics from topic page. (from topic url)\n",
        "4. We will grab the each repo name, username, stars and repo url\n",
        "5. We will create csv file DataSet via scraping.\n",
        "---\n",
        "**Tools used:** Python, requests, BeautifulSoup, Pandas\n",
        "\n",
        "---\n",
        "**Output Example:**  \n",
        "Repo Name,Username,Stars,Repo URL\n",
        "three.js,mrdoob,69700,https://github.com/mrdoob/three.js\n",
        "libgdx,libgdx,18300,https://github.com/libgdx/libgdx\n",
        "\n",
        "---\n"
      ]
    },
    {
      "cell_type": "markdown",
      "metadata": {
        "id": "vGsKXqER2Bsz"
      },
      "source": [
        "## Step 1: Scrap the list of topic from Github:\n",
        "\n"
      ]
    },
    {
      "cell_type": "code",
      "metadata": {
        "id": "AWu-WqgxwE4t"
      },
      "source": [
        "# use request library to get the url and its content, and will use beautifulsoup for scraping\n",
        "\n",
        "import requests\n",
        "from bs4 import BeautifulSoup\n",
        "\n",
        "# define function for geting the topic page...\n",
        "def get_topic_page():\n",
        "  topic_url = 'https://github.com/topics'\n",
        "  response = requests.get(topic_url)\n",
        "  print(response.status_code)\n",
        "\n",
        "  # Error Handling\n",
        "  if response.status_code != 200:\n",
        "    raise Exception('Failed to load page {}'.format(topic_url))    # generate ERROR code for unsuccessful loading.\n",
        "  print('Load Successfully')\n",
        "\n",
        "  # Save webpage for scraping\n",
        "  with open('githubpage.html','w') as f:\n",
        "    f.write(response.text)\n",
        "    print('Your web page is saved as static in local filesystem')\n",
        "\n",
        "  # convert 'str data' in soup format.\n",
        "  soup = BeautifulSoup(response.text, 'html.parser')               # just to remove html tags format\n",
        "  return soup\n"
      ],
      "execution_count": 2,
      "outputs": []
    },
    {
      "cell_type": "code",
      "metadata": {
        "colab": {
          "base_uri": "https://localhost:8080/"
        },
        "id": "GZNqYVYJ3ZIr",
        "outputId": "6745e397-fa60-4870-dfd6-710f2435cbba"
      },
      "source": [
        "# execution\n",
        "github_doc = get_topic_page()"
      ],
      "execution_count": 3,
      "outputs": [
        {
          "output_type": "stream",
          "text": [
            "200\n",
            "Load Successfully\n",
            "Your web page is saved as static in local filesystem\n"
          ],
          "name": "stdout"
        }
      ]
    },
    {
      "cell_type": "code",
      "metadata": {
        "id": "fsDtJanw3jvV"
      },
      "source": [
        "# topic title\n",
        "def get_topic_titles(doc):\n",
        "  selected_class = 'f3 lh-condensed mb-0 mt-1 Link--primary'\n",
        "  topic_title_tags = doc.find_all('p', {'class': selected_class})\n",
        "  topic_titles = []\n",
        "  for tag in topic_title_tags:\n",
        "    topic_titles.append(tag.text)\n",
        "  return topic_titles\n",
        "\n",
        "titles = get_topic_titles(github_doc)"
      ],
      "execution_count": 4,
      "outputs": []
    },
    {
      "cell_type": "code",
      "metadata": {
        "colab": {
          "base_uri": "https://localhost:8080/"
        },
        "id": "qwr7-RY84QIF",
        "outputId": "0ab7bdfa-1b76-435e-ed00-081dcc2260d4"
      },
      "source": [
        "print(len(titles))\n",
        "titles[:10]"
      ],
      "execution_count": 5,
      "outputs": [
        {
          "output_type": "stream",
          "text": [
            "30\n"
          ],
          "name": "stdout"
        },
        {
          "output_type": "execute_result",
          "data": {
            "text/plain": [
              "['3D',\n",
              " 'Ajax',\n",
              " 'Algorithm',\n",
              " 'Amp',\n",
              " 'Android',\n",
              " 'Angular',\n",
              " 'Ansible',\n",
              " 'API',\n",
              " 'Arduino',\n",
              " 'ASP.NET']"
            ]
          },
          "metadata": {
            "tags": []
          },
          "execution_count": 5
        }
      ]
    },
    {
      "cell_type": "code",
      "metadata": {
        "id": "m_g9b5IX7rkD"
      },
      "source": [
        "# topic descriptions\n",
        "def get_topic_desc(doc):\n",
        "  selected_class = 'f5 color-text-secondary mb-0 mt-1'\n",
        "  topic_desc_tags = doc.find_all('p', {'class': selected_class})\n",
        "  topic_descs = []\n",
        "  for tag in topic_desc_tags:\n",
        "    topic_descs.append(tag.text.strip())\n",
        "  return topic_descs\n",
        "\n",
        "topic_descriptions = get_topic_desc(github_doc)"
      ],
      "execution_count": 6,
      "outputs": []
    },
    {
      "cell_type": "code",
      "metadata": {
        "colab": {
          "base_uri": "https://localhost:8080/"
        },
        "id": "Z4kpGC-I86t7",
        "outputId": "aa8cf033-f473-4248-f108-8cd0fe001b18"
      },
      "source": [
        "print(len(topic_descriptions))\n",
        "topic_descriptions[:10]"
      ],
      "execution_count": 7,
      "outputs": [
        {
          "output_type": "stream",
          "text": [
            "30\n"
          ],
          "name": "stdout"
        },
        {
          "output_type": "execute_result",
          "data": {
            "text/plain": [
              "['3D modeling is the process of virtually developing the surface and structure of a 3D object.',\n",
              " 'Ajax is a technique for creating interactive web applications.',\n",
              " 'Algorithms are self-contained sequences that carry out a variety of tasks.',\n",
              " 'Amp is a non-blocking concurrency framework for PHP.',\n",
              " 'Android is an operating system built by Google designed for mobile devices.',\n",
              " 'Angular is an open source web application platform.',\n",
              " 'Ansible is a simple and powerful automation engine.',\n",
              " 'An API (Application Programming Interface) is a collection of protocols and subroutines for building software.',\n",
              " 'Arduino is an open source hardware and software company and maker community.',\n",
              " 'ASP.NET is a web framework for building modern web apps and services.']"
            ]
          },
          "metadata": {
            "tags": []
          },
          "execution_count": 7
        }
      ]
    },
    {
      "cell_type": "code",
      "metadata": {
        "id": "GdIhTJYl9Awo"
      },
      "source": [
        "# topic url\n",
        "def get_topic_urls(doc):\n",
        "  selected_class = 'd-flex no-underline'\n",
        "  topic_url_tags = doc.find_all('a',{'class': selected_class})\n",
        "  topic_urls = []\n",
        "  base_url = 'https://github.com'\n",
        "  for tag in topic_url_tags:\n",
        "    topic_urls.append(base_url + tag['href'])\n",
        "  return topic_urls\n",
        "\n",
        "topic_urls = get_topic_urls(github_doc)"
      ],
      "execution_count": 8,
      "outputs": []
    },
    {
      "cell_type": "code",
      "metadata": {
        "colab": {
          "base_uri": "https://localhost:8080/"
        },
        "id": "RYnWMcdtI4AQ",
        "outputId": "dec15415-c1a5-437a-d7de-2e378d1f345a"
      },
      "source": [
        "print(len(topic_urls))\n",
        "topic_urls[:10]"
      ],
      "execution_count": 9,
      "outputs": [
        {
          "output_type": "stream",
          "text": [
            "30\n"
          ],
          "name": "stdout"
        },
        {
          "output_type": "execute_result",
          "data": {
            "text/plain": [
              "['https://github.com/topics/3d',\n",
              " 'https://github.com/topics/ajax',\n",
              " 'https://github.com/topics/algorithm',\n",
              " 'https://github.com/topics/amphp',\n",
              " 'https://github.com/topics/android',\n",
              " 'https://github.com/topics/angular',\n",
              " 'https://github.com/topics/ansible',\n",
              " 'https://github.com/topics/api',\n",
              " 'https://github.com/topics/arduino',\n",
              " 'https://github.com/topics/aspnet']"
            ]
          },
          "metadata": {
            "tags": []
          },
          "execution_count": 9
        }
      ]
    },
    {
      "cell_type": "code",
      "metadata": {
        "id": "6ARJLaDALh6-"
      },
      "source": [
        "import pandas as pd\n",
        "topics_df = pd.DataFrame({'title' : titles, 'description': topic_descriptions, 'url': topic_urls})"
      ],
      "execution_count": 10,
      "outputs": []
    },
    {
      "cell_type": "code",
      "metadata": {
        "colab": {
          "base_uri": "https://localhost:8080/",
          "height": 204
        },
        "id": "MaqVShuWNKcX",
        "outputId": "3558ddaa-9364-44db-fa67-92240c39c384"
      },
      "source": [
        "topics_df.head(5)"
      ],
      "execution_count": 11,
      "outputs": [
        {
          "output_type": "execute_result",
          "data": {
            "text/html": [
              "<div>\n",
              "<style scoped>\n",
              "    .dataframe tbody tr th:only-of-type {\n",
              "        vertical-align: middle;\n",
              "    }\n",
              "\n",
              "    .dataframe tbody tr th {\n",
              "        vertical-align: top;\n",
              "    }\n",
              "\n",
              "    .dataframe thead th {\n",
              "        text-align: right;\n",
              "    }\n",
              "</style>\n",
              "<table border=\"1\" class=\"dataframe\">\n",
              "  <thead>\n",
              "    <tr style=\"text-align: right;\">\n",
              "      <th></th>\n",
              "      <th>title</th>\n",
              "      <th>description</th>\n",
              "      <th>url</th>\n",
              "    </tr>\n",
              "  </thead>\n",
              "  <tbody>\n",
              "    <tr>\n",
              "      <th>0</th>\n",
              "      <td>3D</td>\n",
              "      <td>3D modeling is the process of virtually develo...</td>\n",
              "      <td>https://github.com/topics/3d</td>\n",
              "    </tr>\n",
              "    <tr>\n",
              "      <th>1</th>\n",
              "      <td>Ajax</td>\n",
              "      <td>Ajax is a technique for creating interactive w...</td>\n",
              "      <td>https://github.com/topics/ajax</td>\n",
              "    </tr>\n",
              "    <tr>\n",
              "      <th>2</th>\n",
              "      <td>Algorithm</td>\n",
              "      <td>Algorithms are self-contained sequences that c...</td>\n",
              "      <td>https://github.com/topics/algorithm</td>\n",
              "    </tr>\n",
              "    <tr>\n",
              "      <th>3</th>\n",
              "      <td>Amp</td>\n",
              "      <td>Amp is a non-blocking concurrency framework fo...</td>\n",
              "      <td>https://github.com/topics/amphp</td>\n",
              "    </tr>\n",
              "    <tr>\n",
              "      <th>4</th>\n",
              "      <td>Android</td>\n",
              "      <td>Android is an operating system built by Google...</td>\n",
              "      <td>https://github.com/topics/android</td>\n",
              "    </tr>\n",
              "  </tbody>\n",
              "</table>\n",
              "</div>"
            ],
            "text/plain": [
              "       title  ...                                  url\n",
              "0         3D  ...         https://github.com/topics/3d\n",
              "1       Ajax  ...       https://github.com/topics/ajax\n",
              "2  Algorithm  ...  https://github.com/topics/algorithm\n",
              "3        Amp  ...      https://github.com/topics/amphp\n",
              "4    Android  ...    https://github.com/topics/android\n",
              "\n",
              "[5 rows x 3 columns]"
            ]
          },
          "metadata": {
            "tags": []
          },
          "execution_count": 11
        }
      ]
    },
    {
      "cell_type": "code",
      "metadata": {
        "id": "t05X_0_DNTlJ"
      },
      "source": [
        "# save the csv file to local system\n",
        "topics_df.to_csv('/content/topics.csv')"
      ],
      "execution_count": 12,
      "outputs": []
    },
    {
      "cell_type": "markdown",
      "metadata": {
        "id": "a87-2jDKYdMX"
      },
      "source": [
        "### combine the whole process as function..."
      ]
    },
    {
      "cell_type": "code",
      "metadata": {
        "id": "jaUww86RUf80"
      },
      "source": [
        "# accumulate the final function\n",
        "def scrape_topic():\n",
        "  topic_url = 'https://github.com/topics'\n",
        "  response = requests.get(topic_url)\n",
        "  if response.status_code != 200:\n",
        "    raise Exception('Failed to load page {}'.format(topic_url))\n",
        "  doc = BeautifulSoup(response.text, 'html.parser')\n",
        "  topic_dict = {\n",
        "      'title' : get_topic_urls(doc),\n",
        "      'description': get_topic_desc(doc),\n",
        "      'url': get_topic_urls(doc)\n",
        "  }\n",
        "  return pd.DataFrame(topic_dict)"
      ],
      "execution_count": 13,
      "outputs": []
    },
    {
      "cell_type": "code",
      "metadata": {
        "colab": {
          "base_uri": "https://localhost:8080/",
          "height": 204
        },
        "id": "oBrG3zFcXq5M",
        "outputId": "8106b2ce-b5a0-4cf0-a633-09224ddbe047"
      },
      "source": [
        "scrape_topic().head(5)"
      ],
      "execution_count": 14,
      "outputs": [
        {
          "output_type": "execute_result",
          "data": {
            "text/html": [
              "<div>\n",
              "<style scoped>\n",
              "    .dataframe tbody tr th:only-of-type {\n",
              "        vertical-align: middle;\n",
              "    }\n",
              "\n",
              "    .dataframe tbody tr th {\n",
              "        vertical-align: top;\n",
              "    }\n",
              "\n",
              "    .dataframe thead th {\n",
              "        text-align: right;\n",
              "    }\n",
              "</style>\n",
              "<table border=\"1\" class=\"dataframe\">\n",
              "  <thead>\n",
              "    <tr style=\"text-align: right;\">\n",
              "      <th></th>\n",
              "      <th>title</th>\n",
              "      <th>description</th>\n",
              "      <th>url</th>\n",
              "    </tr>\n",
              "  </thead>\n",
              "  <tbody>\n",
              "    <tr>\n",
              "      <th>0</th>\n",
              "      <td>https://github.com/topics/3d</td>\n",
              "      <td>3D modeling is the process of virtually develo...</td>\n",
              "      <td>https://github.com/topics/3d</td>\n",
              "    </tr>\n",
              "    <tr>\n",
              "      <th>1</th>\n",
              "      <td>https://github.com/topics/ajax</td>\n",
              "      <td>Ajax is a technique for creating interactive w...</td>\n",
              "      <td>https://github.com/topics/ajax</td>\n",
              "    </tr>\n",
              "    <tr>\n",
              "      <th>2</th>\n",
              "      <td>https://github.com/topics/algorithm</td>\n",
              "      <td>Algorithms are self-contained sequences that c...</td>\n",
              "      <td>https://github.com/topics/algorithm</td>\n",
              "    </tr>\n",
              "    <tr>\n",
              "      <th>3</th>\n",
              "      <td>https://github.com/topics/amphp</td>\n",
              "      <td>Amp is a non-blocking concurrency framework fo...</td>\n",
              "      <td>https://github.com/topics/amphp</td>\n",
              "    </tr>\n",
              "    <tr>\n",
              "      <th>4</th>\n",
              "      <td>https://github.com/topics/android</td>\n",
              "      <td>Android is an operating system built by Google...</td>\n",
              "      <td>https://github.com/topics/android</td>\n",
              "    </tr>\n",
              "  </tbody>\n",
              "</table>\n",
              "</div>"
            ],
            "text/plain": [
              "                                 title  ...                                  url\n",
              "0         https://github.com/topics/3d  ...         https://github.com/topics/3d\n",
              "1       https://github.com/topics/ajax  ...       https://github.com/topics/ajax\n",
              "2  https://github.com/topics/algorithm  ...  https://github.com/topics/algorithm\n",
              "3      https://github.com/topics/amphp  ...      https://github.com/topics/amphp\n",
              "4    https://github.com/topics/android  ...    https://github.com/topics/android\n",
              "\n",
              "[5 rows x 3 columns]"
            ]
          },
          "metadata": {
            "tags": []
          },
          "execution_count": 14
        }
      ]
    },
    {
      "cell_type": "markdown",
      "metadata": {
        "id": "rkikTgkNHfNb"
      },
      "source": [
        "### Step 2: Getting Top 25 repository from the Topic page.\n",
        "\n"
      ]
    },
    {
      "cell_type": "code",
      "metadata": {
        "id": "vLjBt7diYvpY"
      },
      "source": [
        "# function for getting the poppular topic page from extracted url\n",
        "def get_topic_page(topic_url):\n",
        "  response = requests.get(topic_url)\n",
        "  # check response\n",
        "  if response.status_code != 200:\n",
        "    raise Exception('Failed to load page {}'.format(topic_url))\n",
        "  # parser using BeautifulSoup\n",
        "  topic_doc = BeautifulSoup(response.text, 'html.parser')\n",
        "  return topic_doc"
      ],
      "execution_count": 15,
      "outputs": []
    },
    {
      "cell_type": "code",
      "metadata": {
        "colab": {
          "base_uri": "https://localhost:8080/"
        },
        "id": "Xbb4KOWzOBN_",
        "outputId": "9a70f465-f41b-4c97-8645-98a1583bea30"
      },
      "source": [
        "topic_page_url = topic_urls[0]\n",
        "print(topic_page_url)\n",
        "\n",
        "# write topic name \n",
        "topic_page = get_topic_page(topic_page_url)"
      ],
      "execution_count": 16,
      "outputs": [
        {
          "output_type": "stream",
          "text": [
            "https://github.com/topics/3d\n"
          ],
          "name": "stdout"
        }
      ]
    },
    {
      "cell_type": "code",
      "metadata": {
        "id": "0eQui_OGVkMK"
      },
      "source": [
        "h1_selection_class = 'f3 color-text-secondary text-normal lh-condensed'\n",
        "repo_tags = topic_page.find_all('h3',{'class': h1_selection_class})\n",
        "a_tags = repo_tags[0].find_all('a')\n",
        "username = a_tags[0].text.strip()\n",
        "repo_name = a_tags[1].text.strip()\n",
        "repo_url = a_tags[1]['href']\n",
        "repo_url = 'https://github.com' + repo_url\n"
      ],
      "execution_count": 17,
      "outputs": []
    },
    {
      "cell_type": "code",
      "metadata": {
        "colab": {
          "base_uri": "https://localhost:8080/"
        },
        "id": "xQ1CI4x86omN",
        "outputId": "982f50db-0e36-4965-e28c-e179d3b4d960"
      },
      "source": [
        "star_tags = topic_page.find_all('a', {'class':'social-count float-none'})\n",
        "def parse_star_count(star_str):\n",
        "  start_str = star_str.strip()\n",
        "  if star_str[-1] == 'k':\n",
        "    return int(float(star_str[:-1]) * 1000)\n",
        "  return int(star_str)\n",
        "\n",
        "repo_stars = parse_star_count(star_tags[0].text.strip())\n",
        "repo_stars"
      ],
      "execution_count": 18,
      "outputs": [
        {
          "output_type": "execute_result",
          "data": {
            "text/plain": [
              "73100"
            ]
          },
          "metadata": {
            "tags": []
          },
          "execution_count": 18
        }
      ]
    },
    {
      "cell_type": "code",
      "metadata": {
        "id": "Vre1jxjWJDoX"
      },
      "source": [
        ""
      ],
      "execution_count": 18,
      "outputs": []
    },
    {
      "cell_type": "code",
      "metadata": {
        "id": "0xXoK_GWj5_t"
      },
      "source": [
        "# repository information\n",
        "def get_repo_info(h3_tag, star_tag):\n",
        "  a_tags = h3_tag.find_all('a')\n",
        "  username = a_tags[0].text.strip()\n",
        "  repo_name = a_tags[1].text.strip()\n",
        "  base_url = 'https://github.com'\n",
        "  repo_url = base_url + a_tags[1]['href']\n",
        "  stars = parse_star_count(star_tag.text.strip())\n",
        "  return username, repo_name, stars, repo_url"
      ],
      "execution_count": 19,
      "outputs": []
    },
    {
      "cell_type": "code",
      "metadata": {
        "colab": {
          "base_uri": "https://localhost:8080/"
        },
        "id": "SugCbceroTWR",
        "outputId": "cc6cb716-65a0-48fe-b558-c6fe76545df9"
      },
      "source": [
        "# reference (from where these came)\n",
        "# repo_tags = repo_tags = topic_page.find_all('h3',{'class': 'f3 color-text-secondary text-normal lh-condensed'})\n",
        "# star_tags = topic_page.find_all('a', {'class':'social-count float-none'})\n",
        "\n",
        "get_repo_info(repo_tags[0],star_tags[0])"
      ],
      "execution_count": 20,
      "outputs": [
        {
          "output_type": "execute_result",
          "data": {
            "text/plain": [
              "('mrdoob', 'three.js', 73100, 'https://github.com/mrdoob/three.js')"
            ]
          },
          "metadata": {
            "tags": []
          },
          "execution_count": 20
        }
      ]
    },
    {
      "cell_type": "code",
      "metadata": {
        "id": "nQi_AQC1KQCa"
      },
      "source": [
        " # create the page-one (s3) final 25 repo dataset\n",
        "\n",
        " # initialize dictionary with data-feature list\n",
        " topic_repos_dict = {\n",
        "     'username' : [],\n",
        "     'repo_name': [],\n",
        "     'repo_url': [],\n",
        "     'stars': []\n",
        " }\n",
        "\n",
        " for i in range(len(repo_tags)):\n",
        "   repo_info = get_repo_info(repo_tags[i], star_tags[i])\n",
        "   topic_repos_dict['username'].append(repo_info[0])\n",
        "   topic_repos_dict['repo_name'].append(repo_info[1])\n",
        "   topic_repos_dict['repo_url'].append(repo_info[2])\n",
        "   topic_repos_dict['stars'].append(repo_info[3])\n"
      ],
      "execution_count": 21,
      "outputs": []
    },
    {
      "cell_type": "code",
      "metadata": {
        "id": "V-xjL02RNhdt"
      },
      "source": [
        "# convert to dataframe\n",
        "topic_repos_df = pd.DataFrame(topic_repos_dict)\n",
        "topic_repos_df.head(10)\n",
        "\n",
        "# download csv format\n",
        "topic_repos_df.to_csv('/content/topic_repos_df.csv')"
      ],
      "execution_count": 22,
      "outputs": []
    },
    {
      "cell_type": "markdown",
      "metadata": {
        "id": "o_xGz9xyOcn2"
      },
      "source": [
        "# **Final Code**"
      ]
    },
    {
      "cell_type": "markdown",
      "metadata": {
        "id": "XmpXtVFk4A9r"
      },
      "source": [
        "### Topic's Repo Scraping functions"
      ]
    },
    {
      "cell_type": "code",
      "metadata": {
        "id": "YEhfMiBmNpbi"
      },
      "source": [
        "#  combine & simplify the functions (put all togather)\n",
        "def get_topic_page(topic_url):\n",
        "  # download the page\n",
        "  response = requests.get(topic_url)\n",
        "  # check the repsponse status\n",
        "  try:\n",
        "    if response.status_code != 200:\n",
        "      raise Exception('Error in the loading the page {}'.format(topic_url))\n",
        "  except:\n",
        "    print('Need to load {} seperately'.format(topic_url))\n",
        "  # parse using the BeautifulSoup\n",
        "  topic_doc = BeautifulSoup(response.text, 'html.parser')\n",
        "  return topic_doc\n",
        "\n",
        "def get_repo_info(h3_tag, star_tag):\n",
        "  # returns all the required info about a respository\n",
        "  a_tags = h3_tag.find_all('a')\n",
        "  username = a_tags[0].text.strip()\n",
        "  repo_name = a_tags[1].text.strip()\n",
        "  repo_url = 'https://github.com' +a_tags[1]['href']\n",
        "  stars = parse_star_count(star_tag.text.strip())\n",
        "  return username, repo_name, stars, repo_url\n",
        "\n",
        "def get_topic_repo(topic_doc):\n",
        "   # get the h3 tags containeing the repo title, repo url and username\n",
        "   h3_selection_class = 'f3 color-text-secondary text-normal lh-condensed'\n",
        "   repo_tags = topic_doc.find_all('h3', {'class':h3_selection_class})\n",
        "   # get star tag\n",
        "   star_tags = topic_doc.find_all('a', {'class': 'social-count float-none'})\n",
        "\n",
        "   topic_repos_dict = {'username': [], 'repo_name': [], 'stars': [], 'repo_url': []}\n",
        "   \n",
        "   for i in range(len(repo_tags)):\n",
        "     repo_info = get_repo_info(repo_tags[i], star_tags[i])\n",
        "     topic_repos_dict['username'].append(repo_info[0])\n",
        "     topic_repos_dict['repo_name'].append(repo_info[1])\n",
        "     topic_repos_dict['stars'].append(repo_info[2])\n",
        "     topic_repos_dict['repo_url'].append(repo_info[3])\n",
        "     \n",
        "   return pd.DataFrame(topic_repos_dict)\n",
        "\n",
        "import os\n",
        "def scrape_topic(topic_url, path):\n",
        "  \n",
        "  if os.path.exists(path):\n",
        "    print('The file {} already exists, skipping...'.format(path))\n",
        "    return\n",
        "\n",
        "  topic_df = get_topic_repo(get_topic_page(topic_url))\n",
        "  topic_df.to_csv(path, index=None)"
      ],
      "execution_count": 23,
      "outputs": []
    },
    {
      "cell_type": "code",
      "metadata": {
        "colab": {
          "base_uri": "https://localhost:8080/",
          "height": 204
        },
        "id": "3PRqW4xsVmIV",
        "outputId": "2acd0dfd-6439-49ba-818d-85dced75a4de"
      },
      "source": [
        "# execution\n",
        "t = 4\n",
        "url_T = get_topic_repo(get_topic_page(topic_urls[t]))\n",
        "\n",
        "url_T_saved = url_T.to_csv('/content/{}.csv'.format(topic_urls[t].split('/')[-1]))\n",
        "url_T.head()"
      ],
      "execution_count": 24,
      "outputs": [
        {
          "output_type": "execute_result",
          "data": {
            "text/html": [
              "<div>\n",
              "<style scoped>\n",
              "    .dataframe tbody tr th:only-of-type {\n",
              "        vertical-align: middle;\n",
              "    }\n",
              "\n",
              "    .dataframe tbody tr th {\n",
              "        vertical-align: top;\n",
              "    }\n",
              "\n",
              "    .dataframe thead th {\n",
              "        text-align: right;\n",
              "    }\n",
              "</style>\n",
              "<table border=\"1\" class=\"dataframe\">\n",
              "  <thead>\n",
              "    <tr style=\"text-align: right;\">\n",
              "      <th></th>\n",
              "      <th>username</th>\n",
              "      <th>repo_name</th>\n",
              "      <th>stars</th>\n",
              "      <th>repo_url</th>\n",
              "    </tr>\n",
              "  </thead>\n",
              "  <tbody>\n",
              "    <tr>\n",
              "      <th>0</th>\n",
              "      <td>flutter</td>\n",
              "      <td>flutter</td>\n",
              "      <td>126000</td>\n",
              "      <td>https://github.com/flutter/flutter</td>\n",
              "    </tr>\n",
              "    <tr>\n",
              "      <th>1</th>\n",
              "      <td>justjavac</td>\n",
              "      <td>free-programming-books-zh_CN</td>\n",
              "      <td>81700</td>\n",
              "      <td>https://github.com/justjavac/free-programming-...</td>\n",
              "    </tr>\n",
              "    <tr>\n",
              "      <th>2</th>\n",
              "      <td>Genymobile</td>\n",
              "      <td>scrcpy</td>\n",
              "      <td>52400</td>\n",
              "      <td>https://github.com/Genymobile/scrcpy</td>\n",
              "    </tr>\n",
              "    <tr>\n",
              "      <th>3</th>\n",
              "      <td>Hack-with-Github</td>\n",
              "      <td>Awesome-Hacking</td>\n",
              "      <td>45200</td>\n",
              "      <td>https://github.com/Hack-with-Github/Awesome-Ha...</td>\n",
              "    </tr>\n",
              "    <tr>\n",
              "      <th>4</th>\n",
              "      <td>google</td>\n",
              "      <td>material-design-icons</td>\n",
              "      <td>43400</td>\n",
              "      <td>https://github.com/google/material-design-icons</td>\n",
              "    </tr>\n",
              "  </tbody>\n",
              "</table>\n",
              "</div>"
            ],
            "text/plain": [
              "           username  ...                                           repo_url\n",
              "0           flutter  ...                 https://github.com/flutter/flutter\n",
              "1         justjavac  ...  https://github.com/justjavac/free-programming-...\n",
              "2        Genymobile  ...               https://github.com/Genymobile/scrcpy\n",
              "3  Hack-with-Github  ...  https://github.com/Hack-with-Github/Awesome-Ha...\n",
              "4            google  ...    https://github.com/google/material-design-icons\n",
              "\n",
              "[5 rows x 4 columns]"
            ]
          },
          "metadata": {
            "tags": []
          },
          "execution_count": 24
        }
      ]
    },
    {
      "cell_type": "code",
      "metadata": {
        "id": "njyieZOLehKC",
        "colab": {
          "base_uri": "https://localhost:8080/",
          "height": 129
        },
        "outputId": "0bf78fc9-6bc1-4b21-d363-af0971ea7fa4"
      },
      "source": [
        "# Iterating through 30 topics of first page (topic)\n",
        "ffor t in range(len(topic_urls)):\n",
        "  url_T = get_topic_repo(get_topic_page(topic_urls[t]))\n",
        "  url_T_saved = url_T.to_csv('/content/{}.csv'.format(topic_urls[t].split('/')[-1]))\n",
        "  print('topic {} saved in csv format'.format(topic_urls[t].split('/')[-1]))\n",
        "\n",
        "print('Operation Complete')"
      ],
      "execution_count": 62,
      "outputs": [
        {
          "output_type": "error",
          "ename": "SyntaxError",
          "evalue": "ignored",
          "traceback": [
            "\u001b[0;36m  File \u001b[0;32m\"<ipython-input-62-486635d0ce91>\"\u001b[0;36m, line \u001b[0;32m2\u001b[0m\n\u001b[0;31m    ffor t in range(len(topic_urls)):\u001b[0m\n\u001b[0m         ^\u001b[0m\n\u001b[0;31mSyntaxError\u001b[0m\u001b[0;31m:\u001b[0m invalid syntax\n"
          ]
        }
      ]
    },
    {
      "cell_type": "markdown",
      "metadata": {
        "id": "j4pjZbPq308a"
      },
      "source": [
        "### Topic main page scraping"
      ]
    },
    {
      "cell_type": "code",
      "metadata": {
        "colab": {
          "base_uri": "https://localhost:8080/",
          "height": 204
        },
        "id": "qV_z8eXYqYtu",
        "outputId": "3ec62c89-ec39-4e64-d38d-03ba6ce8d9d3"
      },
      "source": [
        "def get_topic_titles(doc):\n",
        "  selected_class = 'f3 lh-condensed mb-0 mt-1 Link--primary'\n",
        "  topic_title_tags = doc.find_all('p', {'class': selected_class})\n",
        "  topic_titles = []\n",
        "  for tag in topic_title_tags:\n",
        "    topic_titles.append(tag.text)\n",
        "  return topic_titles\n",
        "\n",
        "def get_topic_desc(doc):\n",
        "  selected_class = 'f5 color-text-secondary mb-0 mt-1'\n",
        "  topic_desc_tags = doc.find_all('p', {'class': selected_class})\n",
        "  topic_descs = []\n",
        "  for tag in topic_desc_tags:\n",
        "    topic_descs.append(tag.text.strip())\n",
        "  return topic_descs\n",
        "\n",
        "def scrape_topics():\n",
        "  topic_url = 'https://github.com/topics'\n",
        "  response = requests.get(topic_url)\n",
        "  if response.status_code != 200:\n",
        "    raise Exception('Failed to load page {}'.format(topic_url))\n",
        "  doc = BeautifulSoup(response.text, 'html.parser')\n",
        "  topic_dict = {\n",
        "      'title' : get_topic_urls(doc),\n",
        "      'description': get_topic_desc(doc),\n",
        "      'url': get_topic_urls(doc)\n",
        "  }\n",
        "  return pd.DataFrame(topic_dict)\n",
        "\n",
        "scrape_topics().head()"
      ],
      "execution_count": 25,
      "outputs": [
        {
          "output_type": "execute_result",
          "data": {
            "text/html": [
              "<div>\n",
              "<style scoped>\n",
              "    .dataframe tbody tr th:only-of-type {\n",
              "        vertical-align: middle;\n",
              "    }\n",
              "\n",
              "    .dataframe tbody tr th {\n",
              "        vertical-align: top;\n",
              "    }\n",
              "\n",
              "    .dataframe thead th {\n",
              "        text-align: right;\n",
              "    }\n",
              "</style>\n",
              "<table border=\"1\" class=\"dataframe\">\n",
              "  <thead>\n",
              "    <tr style=\"text-align: right;\">\n",
              "      <th></th>\n",
              "      <th>title</th>\n",
              "      <th>description</th>\n",
              "      <th>url</th>\n",
              "    </tr>\n",
              "  </thead>\n",
              "  <tbody>\n",
              "    <tr>\n",
              "      <th>0</th>\n",
              "      <td>https://github.com/topics/3d</td>\n",
              "      <td>3D modeling is the process of virtually develo...</td>\n",
              "      <td>https://github.com/topics/3d</td>\n",
              "    </tr>\n",
              "    <tr>\n",
              "      <th>1</th>\n",
              "      <td>https://github.com/topics/ajax</td>\n",
              "      <td>Ajax is a technique for creating interactive w...</td>\n",
              "      <td>https://github.com/topics/ajax</td>\n",
              "    </tr>\n",
              "    <tr>\n",
              "      <th>2</th>\n",
              "      <td>https://github.com/topics/algorithm</td>\n",
              "      <td>Algorithms are self-contained sequences that c...</td>\n",
              "      <td>https://github.com/topics/algorithm</td>\n",
              "    </tr>\n",
              "    <tr>\n",
              "      <th>3</th>\n",
              "      <td>https://github.com/topics/amphp</td>\n",
              "      <td>Amp is a non-blocking concurrency framework fo...</td>\n",
              "      <td>https://github.com/topics/amphp</td>\n",
              "    </tr>\n",
              "    <tr>\n",
              "      <th>4</th>\n",
              "      <td>https://github.com/topics/android</td>\n",
              "      <td>Android is an operating system built by Google...</td>\n",
              "      <td>https://github.com/topics/android</td>\n",
              "    </tr>\n",
              "  </tbody>\n",
              "</table>\n",
              "</div>"
            ],
            "text/plain": [
              "                                 title  ...                                  url\n",
              "0         https://github.com/topics/3d  ...         https://github.com/topics/3d\n",
              "1       https://github.com/topics/ajax  ...       https://github.com/topics/ajax\n",
              "2  https://github.com/topics/algorithm  ...  https://github.com/topics/algorithm\n",
              "3      https://github.com/topics/amphp  ...      https://github.com/topics/amphp\n",
              "4    https://github.com/topics/android  ...    https://github.com/topics/android\n",
              "\n",
              "[5 rows x 3 columns]"
            ]
          },
          "metadata": {
            "tags": []
          },
          "execution_count": 25
        }
      ]
    },
    {
      "cell_type": "code",
      "metadata": {
        "id": "tUnF35jA3tkJ"
      },
      "source": [
        "def scrape_topic_repos():\n",
        "  print('Scraping list of topics ')\n",
        "\n",
        "  topic_df = scrape_topics()\n",
        "\n",
        "  os.makedirs('data_folder', exist_ok = True)\n",
        "  for index, row in topics_df.iterrows():\n",
        "    print('Scraping top repositories for {}'.format(row['title']))\n",
        "    scrape_topic(row['url'], 'data_folder/{}.csv'.format(row['title']))"
      ],
      "execution_count": 26,
      "outputs": []
    },
    {
      "cell_type": "code",
      "metadata": {
        "colab": {
          "base_uri": "https://localhost:8080/"
        },
        "id": "7wU2UxwGYcUg",
        "outputId": "904fc5b2-65da-4d71-c4a9-29bd9e511d17"
      },
      "source": [
        "scrape_topic_repos()"
      ],
      "execution_count": 28,
      "outputs": [
        {
          "output_type": "stream",
          "text": [
            "Scraping list of topics \n",
            "Scraping top repositories for 3D\n",
            "The file data_folder/3D.csv already exists, skipping...\n",
            "Scraping top repositories for Ajax\n",
            "The file data_folder/Ajax.csv already exists, skipping...\n",
            "Scraping top repositories for Algorithm\n",
            "The file data_folder/Algorithm.csv already exists, skipping...\n",
            "Scraping top repositories for Amp\n",
            "The file data_folder/Amp.csv already exists, skipping...\n",
            "Scraping top repositories for Android\n",
            "The file data_folder/Android.csv already exists, skipping...\n",
            "Scraping top repositories for Angular\n",
            "The file data_folder/Angular.csv already exists, skipping...\n",
            "Scraping top repositories for Ansible\n",
            "The file data_folder/Ansible.csv already exists, skipping...\n",
            "Scraping top repositories for API\n",
            "The file data_folder/API.csv already exists, skipping...\n",
            "Scraping top repositories for Arduino\n",
            "The file data_folder/Arduino.csv already exists, skipping...\n",
            "Scraping top repositories for ASP.NET\n",
            "The file data_folder/ASP.NET.csv already exists, skipping...\n",
            "Scraping top repositories for Atom\n",
            "The file data_folder/Atom.csv already exists, skipping...\n",
            "Scraping top repositories for Awesome Lists\n",
            "The file data_folder/Awesome Lists.csv already exists, skipping...\n",
            "Scraping top repositories for Amazon Web Services\n",
            "The file data_folder/Amazon Web Services.csv already exists, skipping...\n",
            "Scraping top repositories for Azure\n",
            "The file data_folder/Azure.csv already exists, skipping...\n",
            "Scraping top repositories for Babel\n",
            "The file data_folder/Babel.csv already exists, skipping...\n",
            "Scraping top repositories for Bash\n",
            "The file data_folder/Bash.csv already exists, skipping...\n",
            "Scraping top repositories for Bitcoin\n",
            "The file data_folder/Bitcoin.csv already exists, skipping...\n",
            "Scraping top repositories for Bootstrap\n",
            "The file data_folder/Bootstrap.csv already exists, skipping...\n",
            "Scraping top repositories for Bot\n",
            "The file data_folder/Bot.csv already exists, skipping...\n",
            "Scraping top repositories for C\n",
            "The file data_folder/C.csv already exists, skipping...\n",
            "Scraping top repositories for Chrome\n",
            "The file data_folder/Chrome.csv already exists, skipping...\n",
            "Scraping top repositories for Chrome extension\n",
            "The file data_folder/Chrome extension.csv already exists, skipping...\n",
            "Scraping top repositories for Command line interface\n",
            "The file data_folder/Command line interface.csv already exists, skipping...\n",
            "Scraping top repositories for Clojure\n",
            "The file data_folder/Clojure.csv already exists, skipping...\n",
            "Scraping top repositories for Code quality\n",
            "The file data_folder/Code quality.csv already exists, skipping...\n",
            "Scraping top repositories for Code review\n",
            "The file data_folder/Code review.csv already exists, skipping...\n",
            "Scraping top repositories for Compiler\n",
            "The file data_folder/Compiler.csv already exists, skipping...\n",
            "Scraping top repositories for Continuous integration\n",
            "The file data_folder/Continuous integration.csv already exists, skipping...\n",
            "Scraping top repositories for COVID-19\n",
            "The file data_folder/COVID-19.csv already exists, skipping...\n",
            "Scraping top repositories for C++\n",
            "The file data_folder/C++.csv already exists, skipping...\n"
          ],
          "name": "stdout"
        }
      ]
    },
    {
      "cell_type": "markdown",
      "metadata": {
        "id": "3FcBkOoXF4Hr"
      },
      "source": [
        "So, here all the csv dataset are created in data_folder. If any page could not load during the execution, by rerunning this tab once again we could scrap the data from page."
      ]
    },
    {
      "cell_type": "code",
      "metadata": {
        "id": "_CGE9uIpacH5",
        "colab": {
          "base_uri": "https://localhost:8080/",
          "height": 442
        },
        "outputId": "e015ac74-4c8a-4332-c0f3-5a816229b802"
      },
      "source": [
        "# checking random file from the folder...\n",
        "import random\n",
        "random_no = random.randint(0,29)\n",
        "random_topic = topic_urls[random_no].split('/')[-1]\n",
        "random_file_path = '/content/data_folder/{}.csv'.format(random_topic)\n",
        "print(random_file_path)\n",
        "random_file_df = pd.read_csv(random_file_path)\n",
        "random_file_df.head()"
      ],
      "execution_count": 31,
      "outputs": [
        {
          "output_type": "stream",
          "text": [
            "/content/data_folder/android.csv\n"
          ],
          "name": "stdout"
        },
        {
          "output_type": "error",
          "ename": "FileNotFoundError",
          "evalue": "ignored",
          "traceback": [
            "\u001b[0;31m---------------------------------------------------------------------------\u001b[0m",
            "\u001b[0;31mFileNotFoundError\u001b[0m                         Traceback (most recent call last)",
            "\u001b[0;32m<ipython-input-31-a7b18e183f66>\u001b[0m in \u001b[0;36m<module>\u001b[0;34m()\u001b[0m\n\u001b[1;32m      5\u001b[0m \u001b[0mrandom_file_path\u001b[0m \u001b[0;34m=\u001b[0m \u001b[0;34m'/content/data_folder/{}.csv'\u001b[0m\u001b[0;34m.\u001b[0m\u001b[0mformat\u001b[0m\u001b[0;34m(\u001b[0m\u001b[0mrandom_topic\u001b[0m\u001b[0;34m)\u001b[0m\u001b[0;34m\u001b[0m\u001b[0;34m\u001b[0m\u001b[0m\n\u001b[1;32m      6\u001b[0m \u001b[0mprint\u001b[0m\u001b[0;34m(\u001b[0m\u001b[0mrandom_file_path\u001b[0m\u001b[0;34m)\u001b[0m\u001b[0;34m\u001b[0m\u001b[0;34m\u001b[0m\u001b[0m\n\u001b[0;32m----> 7\u001b[0;31m \u001b[0mrandom_file_df\u001b[0m \u001b[0;34m=\u001b[0m \u001b[0mpd\u001b[0m\u001b[0;34m.\u001b[0m\u001b[0mread_csv\u001b[0m\u001b[0;34m(\u001b[0m\u001b[0mrandom_file_path\u001b[0m\u001b[0;34m)\u001b[0m\u001b[0;34m\u001b[0m\u001b[0;34m\u001b[0m\u001b[0m\n\u001b[0m\u001b[1;32m      8\u001b[0m \u001b[0mrandom_file_df\u001b[0m\u001b[0;34m.\u001b[0m\u001b[0mhead\u001b[0m\u001b[0;34m(\u001b[0m\u001b[0;34m)\u001b[0m\u001b[0;34m\u001b[0m\u001b[0;34m\u001b[0m\u001b[0m\n",
            "\u001b[0;32m/usr/local/lib/python3.7/dist-packages/pandas/io/parsers.py\u001b[0m in \u001b[0;36mread_csv\u001b[0;34m(filepath_or_buffer, sep, delimiter, header, names, index_col, usecols, squeeze, prefix, mangle_dupe_cols, dtype, engine, converters, true_values, false_values, skipinitialspace, skiprows, skipfooter, nrows, na_values, keep_default_na, na_filter, verbose, skip_blank_lines, parse_dates, infer_datetime_format, keep_date_col, date_parser, dayfirst, cache_dates, iterator, chunksize, compression, thousands, decimal, lineterminator, quotechar, quoting, doublequote, escapechar, comment, encoding, dialect, error_bad_lines, warn_bad_lines, delim_whitespace, low_memory, memory_map, float_precision)\u001b[0m\n\u001b[1;32m    686\u001b[0m     )\n\u001b[1;32m    687\u001b[0m \u001b[0;34m\u001b[0m\u001b[0m\n\u001b[0;32m--> 688\u001b[0;31m     \u001b[0;32mreturn\u001b[0m \u001b[0m_read\u001b[0m\u001b[0;34m(\u001b[0m\u001b[0mfilepath_or_buffer\u001b[0m\u001b[0;34m,\u001b[0m \u001b[0mkwds\u001b[0m\u001b[0;34m)\u001b[0m\u001b[0;34m\u001b[0m\u001b[0;34m\u001b[0m\u001b[0m\n\u001b[0m\u001b[1;32m    689\u001b[0m \u001b[0;34m\u001b[0m\u001b[0m\n\u001b[1;32m    690\u001b[0m \u001b[0;34m\u001b[0m\u001b[0m\n",
            "\u001b[0;32m/usr/local/lib/python3.7/dist-packages/pandas/io/parsers.py\u001b[0m in \u001b[0;36m_read\u001b[0;34m(filepath_or_buffer, kwds)\u001b[0m\n\u001b[1;32m    452\u001b[0m \u001b[0;34m\u001b[0m\u001b[0m\n\u001b[1;32m    453\u001b[0m     \u001b[0;31m# Create the parser.\u001b[0m\u001b[0;34m\u001b[0m\u001b[0;34m\u001b[0m\u001b[0;34m\u001b[0m\u001b[0m\n\u001b[0;32m--> 454\u001b[0;31m     \u001b[0mparser\u001b[0m \u001b[0;34m=\u001b[0m \u001b[0mTextFileReader\u001b[0m\u001b[0;34m(\u001b[0m\u001b[0mfp_or_buf\u001b[0m\u001b[0;34m,\u001b[0m \u001b[0;34m**\u001b[0m\u001b[0mkwds\u001b[0m\u001b[0;34m)\u001b[0m\u001b[0;34m\u001b[0m\u001b[0;34m\u001b[0m\u001b[0m\n\u001b[0m\u001b[1;32m    455\u001b[0m \u001b[0;34m\u001b[0m\u001b[0m\n\u001b[1;32m    456\u001b[0m     \u001b[0;32mif\u001b[0m \u001b[0mchunksize\u001b[0m \u001b[0;32mor\u001b[0m \u001b[0miterator\u001b[0m\u001b[0;34m:\u001b[0m\u001b[0;34m\u001b[0m\u001b[0;34m\u001b[0m\u001b[0m\n",
            "\u001b[0;32m/usr/local/lib/python3.7/dist-packages/pandas/io/parsers.py\u001b[0m in \u001b[0;36m__init__\u001b[0;34m(self, f, engine, **kwds)\u001b[0m\n\u001b[1;32m    946\u001b[0m             \u001b[0mself\u001b[0m\u001b[0;34m.\u001b[0m\u001b[0moptions\u001b[0m\u001b[0;34m[\u001b[0m\u001b[0;34m\"has_index_names\"\u001b[0m\u001b[0;34m]\u001b[0m \u001b[0;34m=\u001b[0m \u001b[0mkwds\u001b[0m\u001b[0;34m[\u001b[0m\u001b[0;34m\"has_index_names\"\u001b[0m\u001b[0;34m]\u001b[0m\u001b[0;34m\u001b[0m\u001b[0;34m\u001b[0m\u001b[0m\n\u001b[1;32m    947\u001b[0m \u001b[0;34m\u001b[0m\u001b[0m\n\u001b[0;32m--> 948\u001b[0;31m         \u001b[0mself\u001b[0m\u001b[0;34m.\u001b[0m\u001b[0m_make_engine\u001b[0m\u001b[0;34m(\u001b[0m\u001b[0mself\u001b[0m\u001b[0;34m.\u001b[0m\u001b[0mengine\u001b[0m\u001b[0;34m)\u001b[0m\u001b[0;34m\u001b[0m\u001b[0;34m\u001b[0m\u001b[0m\n\u001b[0m\u001b[1;32m    949\u001b[0m \u001b[0;34m\u001b[0m\u001b[0m\n\u001b[1;32m    950\u001b[0m     \u001b[0;32mdef\u001b[0m \u001b[0mclose\u001b[0m\u001b[0;34m(\u001b[0m\u001b[0mself\u001b[0m\u001b[0;34m)\u001b[0m\u001b[0;34m:\u001b[0m\u001b[0;34m\u001b[0m\u001b[0;34m\u001b[0m\u001b[0m\n",
            "\u001b[0;32m/usr/local/lib/python3.7/dist-packages/pandas/io/parsers.py\u001b[0m in \u001b[0;36m_make_engine\u001b[0;34m(self, engine)\u001b[0m\n\u001b[1;32m   1178\u001b[0m     \u001b[0;32mdef\u001b[0m \u001b[0m_make_engine\u001b[0m\u001b[0;34m(\u001b[0m\u001b[0mself\u001b[0m\u001b[0;34m,\u001b[0m \u001b[0mengine\u001b[0m\u001b[0;34m=\u001b[0m\u001b[0;34m\"c\"\u001b[0m\u001b[0;34m)\u001b[0m\u001b[0;34m:\u001b[0m\u001b[0;34m\u001b[0m\u001b[0;34m\u001b[0m\u001b[0m\n\u001b[1;32m   1179\u001b[0m         \u001b[0;32mif\u001b[0m \u001b[0mengine\u001b[0m \u001b[0;34m==\u001b[0m \u001b[0;34m\"c\"\u001b[0m\u001b[0;34m:\u001b[0m\u001b[0;34m\u001b[0m\u001b[0;34m\u001b[0m\u001b[0m\n\u001b[0;32m-> 1180\u001b[0;31m             \u001b[0mself\u001b[0m\u001b[0;34m.\u001b[0m\u001b[0m_engine\u001b[0m \u001b[0;34m=\u001b[0m \u001b[0mCParserWrapper\u001b[0m\u001b[0;34m(\u001b[0m\u001b[0mself\u001b[0m\u001b[0;34m.\u001b[0m\u001b[0mf\u001b[0m\u001b[0;34m,\u001b[0m \u001b[0;34m**\u001b[0m\u001b[0mself\u001b[0m\u001b[0;34m.\u001b[0m\u001b[0moptions\u001b[0m\u001b[0;34m)\u001b[0m\u001b[0;34m\u001b[0m\u001b[0;34m\u001b[0m\u001b[0m\n\u001b[0m\u001b[1;32m   1181\u001b[0m         \u001b[0;32melse\u001b[0m\u001b[0;34m:\u001b[0m\u001b[0;34m\u001b[0m\u001b[0;34m\u001b[0m\u001b[0m\n\u001b[1;32m   1182\u001b[0m             \u001b[0;32mif\u001b[0m \u001b[0mengine\u001b[0m \u001b[0;34m==\u001b[0m \u001b[0;34m\"python\"\u001b[0m\u001b[0;34m:\u001b[0m\u001b[0;34m\u001b[0m\u001b[0;34m\u001b[0m\u001b[0m\n",
            "\u001b[0;32m/usr/local/lib/python3.7/dist-packages/pandas/io/parsers.py\u001b[0m in \u001b[0;36m__init__\u001b[0;34m(self, src, **kwds)\u001b[0m\n\u001b[1;32m   2008\u001b[0m         \u001b[0mkwds\u001b[0m\u001b[0;34m[\u001b[0m\u001b[0;34m\"usecols\"\u001b[0m\u001b[0;34m]\u001b[0m \u001b[0;34m=\u001b[0m \u001b[0mself\u001b[0m\u001b[0;34m.\u001b[0m\u001b[0musecols\u001b[0m\u001b[0;34m\u001b[0m\u001b[0;34m\u001b[0m\u001b[0m\n\u001b[1;32m   2009\u001b[0m \u001b[0;34m\u001b[0m\u001b[0m\n\u001b[0;32m-> 2010\u001b[0;31m         \u001b[0mself\u001b[0m\u001b[0;34m.\u001b[0m\u001b[0m_reader\u001b[0m \u001b[0;34m=\u001b[0m \u001b[0mparsers\u001b[0m\u001b[0;34m.\u001b[0m\u001b[0mTextReader\u001b[0m\u001b[0;34m(\u001b[0m\u001b[0msrc\u001b[0m\u001b[0;34m,\u001b[0m \u001b[0;34m**\u001b[0m\u001b[0mkwds\u001b[0m\u001b[0;34m)\u001b[0m\u001b[0;34m\u001b[0m\u001b[0;34m\u001b[0m\u001b[0m\n\u001b[0m\u001b[1;32m   2011\u001b[0m         \u001b[0mself\u001b[0m\u001b[0;34m.\u001b[0m\u001b[0munnamed_cols\u001b[0m \u001b[0;34m=\u001b[0m \u001b[0mself\u001b[0m\u001b[0;34m.\u001b[0m\u001b[0m_reader\u001b[0m\u001b[0;34m.\u001b[0m\u001b[0munnamed_cols\u001b[0m\u001b[0;34m\u001b[0m\u001b[0;34m\u001b[0m\u001b[0m\n\u001b[1;32m   2012\u001b[0m \u001b[0;34m\u001b[0m\u001b[0m\n",
            "\u001b[0;32mpandas/_libs/parsers.pyx\u001b[0m in \u001b[0;36mpandas._libs.parsers.TextReader.__cinit__\u001b[0;34m()\u001b[0m\n",
            "\u001b[0;32mpandas/_libs/parsers.pyx\u001b[0m in \u001b[0;36mpandas._libs.parsers.TextReader._setup_parser_source\u001b[0;34m()\u001b[0m\n",
            "\u001b[0;31mFileNotFoundError\u001b[0m: [Errno 2] No such file or directory: '/content/data_folder/android.csv'"
          ]
        }
      ]
    },
    {
      "cell_type": "code",
      "metadata": {
        "id": "-8JpWKHQ0D7Y"
      },
      "source": [
        "# currently working on it. \n"
      ],
      "execution_count": null,
      "outputs": []
    }
  ]
}